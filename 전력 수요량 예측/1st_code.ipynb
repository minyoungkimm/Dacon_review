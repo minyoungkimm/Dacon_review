{
 "cells": [
  {
   "cell_type": "markdown",
   "metadata": {},
   "source": [
    "# 전력 수요량 예측 경진대회\n",
    "<hr>\n",
    "\n",
    "*참고 코드*\n",
    "- <https://dacon.io/competitions/official/196878/codeshare/418?page=1&dtype=recent&ptype=pub>"
   ]
  },
  {
   "cell_type": "markdown",
   "metadata": {},
   "source": [
    "<br><br>\n",
    "## 라이브러리"
   ]
  },
  {
   "cell_type": "code",
   "execution_count": 151,
   "metadata": {},
   "outputs": [],
   "source": [
    "# -*- coding: utf8-*-\n",
    "# General Library\n",
    "import numpy as np\n",
    "import pandas as pd\n",
    "import time\n",
    "import datetime\n",
    "import random\n",
    "import os\n",
    "import matplotlib.pyplot as plt\n",
    "\n",
    "# Machine Learning Library\n",
    "import lightgbm as lgb\n",
    "import sklearn\n",
    "from sklearn.model_selection import train_test_split"
   ]
  },
  {
   "cell_type": "code",
   "execution_count": 152,
   "metadata": {},
   "outputs": [
    {
     "name": "stdout",
     "output_type": "stream",
     "text": [
      "Seed: 777\n",
      "Numpy: 1.19.2\n",
      "Pandas: 1.1.3\n",
      "LightGBM: 3.1.1\n",
      "Scikit-Learn: 0.23.2\n"
     ]
    }
   ],
   "source": [
    "# seed 고정\n",
    "seed = 777\n",
    "os.environ['PYTHONHASHSEED'] = str(seed)\n",
    "np.random.seed(seed)\n",
    "random.seed(seed)\n",
    "\n",
    "# 버전 정보\n",
    "print('Seed: %i'%(seed))\n",
    "print('Numpy: %s'%(np.__version__))\n",
    "print('Pandas: %s'%(pd.__version__))\n",
    "print('LightGBM: %s'%(lgb.__version__))\n",
    "print('Scikit-Learn: %s'%(sklearn.__version__))"
   ]
  },
  {
   "cell_type": "code",
   "execution_count": 153,
   "metadata": {},
   "outputs": [],
   "source": [
    "# Load data\n",
    "train = pd.read_csv('data/train.csv')\n",
    "test = pd.read_csv('data/test.csv')"
   ]
  },
  {
   "cell_type": "code",
   "execution_count": 154,
   "metadata": {},
   "outputs": [
    {
     "data": {
      "text/html": [
       "<div>\n",
       "<style scoped>\n",
       "    .dataframe tbody tr th:only-of-type {\n",
       "        vertical-align: middle;\n",
       "    }\n",
       "\n",
       "    .dataframe tbody tr th {\n",
       "        vertical-align: top;\n",
       "    }\n",
       "\n",
       "    .dataframe thead th {\n",
       "        text-align: right;\n",
       "    }\n",
       "</style>\n",
       "<table border=\"1\" class=\"dataframe\">\n",
       "  <thead>\n",
       "    <tr style=\"text-align: right;\">\n",
       "      <th></th>\n",
       "      <th>지점</th>\n",
       "      <th>일시</th>\n",
       "      <th>기온(°C)</th>\n",
       "      <th>강수량(mm)</th>\n",
       "      <th>풍속(m/s)</th>\n",
       "      <th>습도(%)</th>\n",
       "      <th>적설(cm)</th>\n",
       "      <th>날씨</th>\n",
       "      <th>전운량(10분위)</th>\n",
       "    </tr>\n",
       "  </thead>\n",
       "  <tbody>\n",
       "    <tr>\n",
       "      <th>0</th>\n",
       "      <td>112</td>\n",
       "      <td>2016.7.20 0:00</td>\n",
       "      <td>25.7</td>\n",
       "      <td>NaN</td>\n",
       "      <td>1.3</td>\n",
       "      <td>98.0</td>\n",
       "      <td>NaN</td>\n",
       "      <td>박무</td>\n",
       "      <td>8.0</td>\n",
       "    </tr>\n",
       "    <tr>\n",
       "      <th>1</th>\n",
       "      <td>112</td>\n",
       "      <td>2016.7.20 1:00</td>\n",
       "      <td>25.6</td>\n",
       "      <td>NaN</td>\n",
       "      <td>1.4</td>\n",
       "      <td>98.0</td>\n",
       "      <td>NaN</td>\n",
       "      <td>NaN</td>\n",
       "      <td>NaN</td>\n",
       "    </tr>\n",
       "    <tr>\n",
       "      <th>2</th>\n",
       "      <td>112</td>\n",
       "      <td>2016.7.20 2:00</td>\n",
       "      <td>25.4</td>\n",
       "      <td>NaN</td>\n",
       "      <td>0.3</td>\n",
       "      <td>98.0</td>\n",
       "      <td>NaN</td>\n",
       "      <td>NaN</td>\n",
       "      <td>NaN</td>\n",
       "    </tr>\n",
       "    <tr>\n",
       "      <th>3</th>\n",
       "      <td>112</td>\n",
       "      <td>2016.7.20 3:00</td>\n",
       "      <td>24.9</td>\n",
       "      <td>NaN</td>\n",
       "      <td>1.1</td>\n",
       "      <td>98.0</td>\n",
       "      <td>NaN</td>\n",
       "      <td>박무</td>\n",
       "      <td>8.0</td>\n",
       "    </tr>\n",
       "    <tr>\n",
       "      <th>4</th>\n",
       "      <td>112</td>\n",
       "      <td>2016.7.20 4:00</td>\n",
       "      <td>24.7</td>\n",
       "      <td>NaN</td>\n",
       "      <td>0.7</td>\n",
       "      <td>98.0</td>\n",
       "      <td>NaN</td>\n",
       "      <td>박무</td>\n",
       "      <td>8.0</td>\n",
       "    </tr>\n",
       "  </tbody>\n",
       "</table>\n",
       "</div>"
      ],
      "text/plain": [
       "    지점              일시  기온(°C)  강수량(mm)  풍속(m/s)  습도(%)  적설(cm)   날씨  \\\n",
       "0  112  2016.7.20 0:00    25.7      NaN      1.3   98.0     NaN   박무   \n",
       "1  112  2016.7.20 1:00    25.6      NaN      1.4   98.0     NaN  NaN   \n",
       "2  112  2016.7.20 2:00    25.4      NaN      0.3   98.0     NaN  NaN   \n",
       "3  112  2016.7.20 3:00    24.9      NaN      1.1   98.0     NaN   박무   \n",
       "4  112  2016.7.20 4:00    24.7      NaN      0.7   98.0     NaN   박무   \n",
       "\n",
       "   전운량(10분위)  \n",
       "0        8.0  \n",
       "1        NaN  \n",
       "2        NaN  \n",
       "3        8.0  \n",
       "4        8.0  "
      ]
     },
     "execution_count": 154,
     "metadata": {},
     "output_type": "execute_result"
    }
   ],
   "source": [
    "weather=pd.read_csv('./data/인천_시간별__기상자료(16-18)_축소__7월1일.csv',encoding='cp949')\n",
    "weather.head()"
   ]
  },
  {
   "cell_type": "code",
   "execution_count": 155,
   "metadata": {},
   "outputs": [
    {
     "data": {
      "text/plain": [
       "지점               0\n",
       "일시               0\n",
       "기온(°C)          31\n",
       "강수량(mm)      15653\n",
       "풍속(m/s)          0\n",
       "습도(%)            7\n",
       "적설(cm)       16578\n",
       "날씨            3767\n",
       "전운량(10분위)     3775\n",
       "dtype: int64"
      ]
     },
     "execution_count": 155,
     "metadata": {},
     "output_type": "execute_result"
    }
   ],
   "source": [
    "# 결측치 확인\n",
    "weather.isnull().sum()"
   ]
  },
  {
   "cell_type": "code",
   "execution_count": 156,
   "metadata": {},
   "outputs": [],
   "source": [
    "## 결측치 처리\n",
    "# 결측 데이터가 많지 않은 데이터는 전 값으로 대체\n",
    "weather['기온(°C)']=weather['기온(°C)'].fillna(method='ffill')\n",
    "weather['습도(%)']=weather['습도(%)'].fillna(method='ffill')\n",
    "weather['전운량(10분위)']=weather['전운량(10분위)'].fillna(method='ffill')\n",
    "\n",
    "# 결측 데이터가 많은 컬럼은 0으로 대체\n",
    "weather['강수량(mm)']=weather['강수량(mm)'].fillna(0)\n",
    "weather['적설(cm)']=weather['적설(cm)'].fillna(0)\n",
    "weather['날씨']=weather['날씨'].fillna('nan')"
   ]
  },
  {
   "cell_type": "code",
   "execution_count": 157,
   "metadata": {},
   "outputs": [],
   "source": [
    "# 타입 변환\n",
    "weather['일시']=pd.to_datetime(weather['일시'])"
   ]
  },
  {
   "cell_type": "markdown",
   "metadata": {},
   "source": [
    "<br><br>\n",
    "## 데이터 전처리"
   ]
  },
  {
   "cell_type": "code",
   "execution_count": 158,
   "metadata": {},
   "outputs": [],
   "source": [
    "# datetime으로 변환\n",
    "train['Time']=pd.to_datetime(train['Time'])\n",
    "test['Time']=pd.to_datetime(test['Time'])"
   ]
  },
  {
   "cell_type": "code",
   "execution_count": 159,
   "metadata": {},
   "outputs": [],
   "source": [
    "# nan to zero\n",
    "train.fillna(0,inplace=True)\n",
    "test.fillna(0,inplace=True)"
   ]
  },
  {
   "cell_type": "code",
   "execution_count": 160,
   "metadata": {},
   "outputs": [],
   "source": [
    "# 날씨데이터를 일별로 만들기.\n",
    "weather['day']=pd.to_datetime(weather['일시'].dt.strftime('%Y-%m-%d'))"
   ]
  },
  {
   "cell_type": "code",
   "execution_count": 161,
   "metadata": {},
   "outputs": [],
   "source": [
    "def downsampling(df):\n",
    "    result={}\n",
    "    result['기온(°C)']=[df['기온(°C)'].mean()]\n",
    "    result['강수량(mm)']=[df['강수량(mm)'].mean()]\n",
    "    result['풍속(m/s)']=[df['풍속(m/s)'].mean()]\n",
    "    result['습도(%)']=[df['습도(%)'].mean()]\n",
    "    result['적설(cm)']=[df['적설(cm)'].mean()]\n",
    "    #result['전운량(10분위)']=[df['전운량(10분위)'].value_counts().sort_values(ascending=False).index[0]]\n",
    "    result['전운량(10분위)']=[df['전운량(10분위)'].mean()]\n",
    "    return pd.DataFrame(result)\n",
    "    \n",
    "additional_columns=['day','기온(°C)','강수량(mm)','풍속(m/s)','습도(%)','적설(cm)','전운량(10분위)']\n",
    "\n",
    "additional_data=weather.groupby(['day']).apply(downsampling).reset_index()[additional_columns].rename(columns={'day':'일시'})"
   ]
  },
  {
   "cell_type": "code",
   "execution_count": 162,
   "metadata": {},
   "outputs": [
    {
     "data": {
      "text/html": [
       "<div>\n",
       "<style scoped>\n",
       "    .dataframe tbody tr th:only-of-type {\n",
       "        vertical-align: middle;\n",
       "    }\n",
       "\n",
       "    .dataframe tbody tr th {\n",
       "        vertical-align: top;\n",
       "    }\n",
       "\n",
       "    .dataframe thead th {\n",
       "        text-align: right;\n",
       "    }\n",
       "</style>\n",
       "<table border=\"1\" class=\"dataframe\">\n",
       "  <thead>\n",
       "    <tr style=\"text-align: right;\">\n",
       "      <th></th>\n",
       "      <th>일시</th>\n",
       "      <th>기온(°C)</th>\n",
       "      <th>강수량(mm)</th>\n",
       "      <th>풍속(m/s)</th>\n",
       "      <th>습도(%)</th>\n",
       "      <th>적설(cm)</th>\n",
       "      <th>전운량(10분위)</th>\n",
       "    </tr>\n",
       "  </thead>\n",
       "  <tbody>\n",
       "    <tr>\n",
       "      <th>0</th>\n",
       "      <td>2016-07-20</td>\n",
       "      <td>27.887500</td>\n",
       "      <td>0.000000</td>\n",
       "      <td>2.054167</td>\n",
       "      <td>90.583333</td>\n",
       "      <td>0.0</td>\n",
       "      <td>6.708333</td>\n",
       "    </tr>\n",
       "    <tr>\n",
       "      <th>1</th>\n",
       "      <td>2016-07-21</td>\n",
       "      <td>27.945833</td>\n",
       "      <td>0.000000</td>\n",
       "      <td>2.700000</td>\n",
       "      <td>86.541667</td>\n",
       "      <td>0.0</td>\n",
       "      <td>8.000000</td>\n",
       "    </tr>\n",
       "    <tr>\n",
       "      <th>2</th>\n",
       "      <td>2016-07-22</td>\n",
       "      <td>28.437500</td>\n",
       "      <td>0.000000</td>\n",
       "      <td>2.925000</td>\n",
       "      <td>89.250000</td>\n",
       "      <td>0.0</td>\n",
       "      <td>4.708333</td>\n",
       "    </tr>\n",
       "    <tr>\n",
       "      <th>3</th>\n",
       "      <td>2016-07-23</td>\n",
       "      <td>27.641667</td>\n",
       "      <td>0.008333</td>\n",
       "      <td>3.137500</td>\n",
       "      <td>95.375000</td>\n",
       "      <td>0.0</td>\n",
       "      <td>8.583333</td>\n",
       "    </tr>\n",
       "    <tr>\n",
       "      <th>4</th>\n",
       "      <td>2016-07-24</td>\n",
       "      <td>27.120833</td>\n",
       "      <td>0.000000</td>\n",
       "      <td>2.479167</td>\n",
       "      <td>98.000000</td>\n",
       "      <td>0.0</td>\n",
       "      <td>9.000000</td>\n",
       "    </tr>\n",
       "    <tr>\n",
       "      <th>...</th>\n",
       "      <td>...</td>\n",
       "      <td>...</td>\n",
       "      <td>...</td>\n",
       "      <td>...</td>\n",
       "      <td>...</td>\n",
       "      <td>...</td>\n",
       "      <td>...</td>\n",
       "    </tr>\n",
       "    <tr>\n",
       "      <th>707</th>\n",
       "      <td>2018-06-27</td>\n",
       "      <td>20.262500</td>\n",
       "      <td>0.008333</td>\n",
       "      <td>2.583333</td>\n",
       "      <td>93.625000</td>\n",
       "      <td>0.0</td>\n",
       "      <td>9.291667</td>\n",
       "    </tr>\n",
       "    <tr>\n",
       "      <th>708</th>\n",
       "      <td>2018-06-28</td>\n",
       "      <td>22.391667</td>\n",
       "      <td>0.100000</td>\n",
       "      <td>2.250000</td>\n",
       "      <td>93.583333</td>\n",
       "      <td>0.0</td>\n",
       "      <td>9.875000</td>\n",
       "    </tr>\n",
       "    <tr>\n",
       "      <th>709</th>\n",
       "      <td>2018-06-29</td>\n",
       "      <td>22.437500</td>\n",
       "      <td>0.016667</td>\n",
       "      <td>1.879167</td>\n",
       "      <td>90.208333</td>\n",
       "      <td>0.0</td>\n",
       "      <td>7.791667</td>\n",
       "    </tr>\n",
       "    <tr>\n",
       "      <th>710</th>\n",
       "      <td>2018-06-30</td>\n",
       "      <td>23.708333</td>\n",
       "      <td>0.000000</td>\n",
       "      <td>1.395833</td>\n",
       "      <td>84.916667</td>\n",
       "      <td>0.0</td>\n",
       "      <td>9.375000</td>\n",
       "    </tr>\n",
       "    <tr>\n",
       "      <th>711</th>\n",
       "      <td>2018-07-01</td>\n",
       "      <td>22.125000</td>\n",
       "      <td>2.466667</td>\n",
       "      <td>3.408333</td>\n",
       "      <td>94.291667</td>\n",
       "      <td>0.0</td>\n",
       "      <td>9.791667</td>\n",
       "    </tr>\n",
       "  </tbody>\n",
       "</table>\n",
       "<p>712 rows × 7 columns</p>\n",
       "</div>"
      ],
      "text/plain": [
       "            일시     기온(°C)   강수량(mm)   풍속(m/s)      습도(%)  적설(cm)  전운량(10분위)\n",
       "0   2016-07-20  27.887500  0.000000  2.054167  90.583333     0.0   6.708333\n",
       "1   2016-07-21  27.945833  0.000000  2.700000  86.541667     0.0   8.000000\n",
       "2   2016-07-22  28.437500  0.000000  2.925000  89.250000     0.0   4.708333\n",
       "3   2016-07-23  27.641667  0.008333  3.137500  95.375000     0.0   8.583333\n",
       "4   2016-07-24  27.120833  0.000000  2.479167  98.000000     0.0   9.000000\n",
       "..         ...        ...       ...       ...        ...     ...        ...\n",
       "707 2018-06-27  20.262500  0.008333  2.583333  93.625000     0.0   9.291667\n",
       "708 2018-06-28  22.391667  0.100000  2.250000  93.583333     0.0   9.875000\n",
       "709 2018-06-29  22.437500  0.016667  1.879167  90.208333     0.0   7.791667\n",
       "710 2018-06-30  23.708333  0.000000  1.395833  84.916667     0.0   9.375000\n",
       "711 2018-07-01  22.125000  2.466667  3.408333  94.291667     0.0   9.791667\n",
       "\n",
       "[712 rows x 7 columns]"
      ]
     },
     "execution_count": 162,
     "metadata": {},
     "output_type": "execute_result"
    }
   ],
   "source": [
    "additional_data"
   ]
  },
  {
   "cell_type": "markdown",
   "metadata": {},
   "source": [
    "<br><br>\n",
    "## EDA"
   ]
  },
  {
   "cell_type": "code",
   "execution_count": 213,
   "metadata": {},
   "outputs": [],
   "source": [
    "train_id_num=(train.loc[:,'NX1':]>0).sum().index\n",
    "train_id_num=train_id_num.str[2:].astype('int')"
   ]
  },
  {
   "cell_type": "code",
   "execution_count": 214,
   "metadata": {},
   "outputs": [],
   "source": [
    "train_data_num=sorted((train.loc[:,'NX1':]>0).sum().values,reverse=True)"
   ]
  },
  {
   "cell_type": "code",
   "execution_count": 215,
   "metadata": {},
   "outputs": [],
   "source": [
    "test_id_num=(test.loc[:,'NX1301':]>0).sum().index.str[2:].astype('int')\n",
    "test_id_num=test_id_num-1300"
   ]
  },
  {
   "cell_type": "code",
   "execution_count": 216,
   "metadata": {},
   "outputs": [],
   "source": [
    "test_data_num=(test.loc[:,'NX1301':]>0).sum().values"
   ]
  },
  {
   "cell_type": "code",
   "execution_count": 217,
   "metadata": {},
   "outputs": [
    {
     "data": {
      "image/png": "[encoded data removed]",
      "text/plain": [
       "<Figure size 432x288 with 1 Axes>"
      ]
     },
     "metadata": {
      "needs_background": "light"
     },
     "output_type": "display_data"
    }
   ],
   "source": [
    "# scatter로 보기\n",
    "plt.scatter(train_id_num, train_data_num, s=5, color='b', label='train')\n",
    "plt.scatter(test_id_num, test_data_num, s=5, color='r', label='test')\n",
    "plt.legend()\n",
    "plt.xlim(0, 1500)\n",
    "plt.ylim(bottom=0)\n",
    "plt.xlabel('Meter Id')\n",
    "plt.ylabel('Data Numer')\n",
    "plt.show()"
   ]
  },
  {
   "cell_type": "code",
   "execution_count": 201,
   "metadata": {},
   "outputs": [],
   "source": [
    "cond=((train.loc[:,'NX1':]>0).sum())>6000"
   ]
  },
  {
   "cell_type": "code",
   "execution_count": 204,
   "metadata": {},
   "outputs": [
    {
     "data": {
      "text/plain": [
       "234"
      ]
     },
     "execution_count": 204,
     "metadata": {},
     "output_type": "execute_result"
    }
   ],
   "source": [
    "cond.sum()"
   ]
  },
  {
   "cell_type": "code",
   "execution_count": null,
   "metadata": {},
   "outputs": [],
   "source": []
  },
  {
   "cell_type": "code",
   "execution_count": null,
   "metadata": {},
   "outputs": [],
   "source": []
  },
  {
   "cell_type": "code",
   "execution_count": null,
   "metadata": {},
   "outputs": [],
   "source": []
  },
  {
   "cell_type": "code",
   "execution_count": null,
   "metadata": {},
   "outputs": [],
   "source": []
  }
 ],
 "metadata": {
  "kernelspec": {
   "display_name": "pydatavenv",
   "language": "python",
   "name": "pydatavenv"
  },
  "language_info": {
   "codemirror_mode": {
    "name": "ipython",
    "version": 3
   },
   "file_extension": ".py",
   "mimetype": "text/x-python",
   "name": "python",
   "nbconvert_exporter": "python",
   "pygments_lexer": "ipython3",
   "version": "3.7.9"
  }
 },
 "nbformat": 4,
 "nbformat_minor": 4
}
